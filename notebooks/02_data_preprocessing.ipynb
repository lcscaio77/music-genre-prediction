{
 "cells": [
  {
   "cell_type": "code",
   "execution_count": null,
   "metadata": {},
   "outputs": [],
   "source": [
    "import os\n",
    "import config\n",
    "import numpy as np\n",
    "from joblib import dump\n",
    "from src import load_data, handle_missing_values, encode_categorical"
   ]
  },
  {
   "cell_type": "code",
   "execution_count": null,
   "metadata": {},
   "outputs": [],
   "source": [
    "data = load_data(config.RAW_DATA_FILE)\n",
    "data.info()"
   ]
  },
  {
   "cell_type": "code",
   "execution_count": null,
   "metadata": {},
   "outputs": [],
   "source": [
    "data.head()"
   ]
  },
  {
   "cell_type": "code",
   "execution_count": null,
   "metadata": {},
   "outputs": [],
   "source": [
    "data = handle_missing_values(data)\n",
    "data.info()"
   ]
  },
  {
   "cell_type": "code",
   "execution_count": null,
   "metadata": {},
   "outputs": [],
   "source": [
    "genres = {}\n",
    "for i, genre in enumerate(np.sort(list(data['music_genre'].unique()))):\n",
    "    genres[i] = genre\n",
    "\n",
    "dump(len(genres), '../artifacts/preprocessing/n_classes.joblib')\n",
    "dump(genres, '../artifacts/preprocessing/classes.joblib')"
   ]
  },
  {
   "cell_type": "code",
   "execution_count": null,
   "metadata": {},
   "outputs": [],
   "source": [
    "data['tempo'] = data['tempo'].replace('?', np.nan).astype(float)\n",
    "\n",
    "for genre in data['music_genre'].unique():\n",
    "    mean_tempo = data.loc[~ data['tempo'].isna() * data['music_genre'] == genre, 'tempo'].mean()\n",
    "    data.loc[data['tempo'].isna() * data['music_genre'] == genre, 'tempo'] = mean_tempo"
   ]
  },
  {
   "cell_type": "code",
   "execution_count": null,
   "metadata": {},
   "outputs": [],
   "source": [
    "mean_duration = data['duration_ms'].loc[data['duration_ms'] != -1].mean()\n",
    "data['duration_ms'] = data['duration_ms'].replace(-1, mean_duration)"
   ]
  },
  {
   "cell_type": "code",
   "execution_count": null,
   "metadata": {},
   "outputs": [],
   "source": [
    "data = encode_categorical(data, columns=['key'])\n",
    "data = encode_categorical(data, columns=['mode'])\n",
    "data_classes_encoded = encode_categorical(data.copy(), columns=['music_genre'])\n",
    "data.head()"
   ]
  },
  {
   "cell_type": "code",
   "execution_count": null,
   "metadata": {},
   "outputs": [],
   "source": [
    "data_classes_encoded = data_classes_encoded.drop(columns=['instance_id', 'artist_name', 'track_name', 'obtained_date'])"
   ]
  },
  {
   "cell_type": "code",
   "execution_count": null,
   "metadata": {},
   "outputs": [],
   "source": [
    "data_classes_encoded.head()"
   ]
  },
  {
   "cell_type": "code",
   "execution_count": null,
   "metadata": {},
   "outputs": [],
   "source": [
    "data_classes_encoded.to_csv(config.PROCESSED_DATA_FOLDER + 'processed_data.csv', index=False)"
   ]
  },
  {
   "cell_type": "code",
   "execution_count": null,
   "metadata": {},
   "outputs": [],
   "source": [
    "data_classes_encoded = data_classes_encoded.drop(columns=['key'])"
   ]
  },
  {
   "cell_type": "code",
   "execution_count": null,
   "metadata": {},
   "outputs": [],
   "source": [
    "data_classes_encoded.to_csv(config.PROCESSED_DATA_FOLDER + 'processed_data_no_keys.csv', index=False)"
   ]
  },
  {
   "cell_type": "code",
   "execution_count": null,
   "metadata": {},
   "outputs": [],
   "source": [
    "data = data.drop(columns=['instance_id', 'artist_name', 'track_name', 'obtained_date'])"
   ]
  },
  {
   "cell_type": "code",
   "execution_count": null,
   "metadata": {},
   "outputs": [],
   "source": [
    "data['music_genre'] = data['music_genre'].replace({'Hip-Hop' : 'Rap/Hip-Hop', 'Rap': 'Rap/Hip-Hop'})\n",
    "encode_categorical(data, ['music_genre'])"
   ]
  },
  {
   "cell_type": "code",
   "execution_count": null,
   "metadata": {},
   "outputs": [],
   "source": [
    "data.to_csv(config.PROCESSED_DATA_FOLDER + 'processed_data_combined_rap_hiphop.csv', index=False)"
   ]
  },
  {
   "cell_type": "code",
   "execution_count": null,
   "metadata": {},
   "outputs": [],
   "source": [
    "data = data.drop(columns=['key'])"
   ]
  },
  {
   "cell_type": "code",
   "execution_count": null,
   "metadata": {},
   "outputs": [],
   "source": [
    "data.to_csv(config.PROCESSED_DATA_FOLDER + 'processed_data_combined_rap_hiphop_no_keys.csv', index=False)"
   ]
  }
 ],
 "metadata": {
  "kernelspec": {
   "display_name": "venv",
   "language": "python",
   "name": "python3"
  },
  "language_info": {
   "codemirror_mode": {
    "name": "ipython",
    "version": 3
   },
   "file_extension": ".py",
   "mimetype": "text/x-python",
   "name": "python",
   "nbconvert_exporter": "python",
   "pygments_lexer": "ipython3",
   "version": "3.9.6"
  }
 },
 "nbformat": 4,
 "nbformat_minor": 2
}
