{
 "cells": [
  {
   "cell_type": "code",
   "execution_count": null,
   "metadata": {},
   "outputs": [],
   "source": [
    "import config, src\n",
    "import numpy as np\n",
    "from sklearn.ensemble import RandomForestClassifier\n",
    "from sklearn.utils.class_weight import compute_class_weight"
   ]
  },
  {
   "cell_type": "code",
   "execution_count": null,
   "metadata": {},
   "outputs": [],
   "source": [
    "data = src.load_data(config.PROCESSED_DATA_COMBINED_RAP_HIPHOP_FILE)\n",
    "\n",
    "X_train, X_test, y_train, y_test = src.split_data(data, target_column='music_genre')\n",
    "\n",
    "class_weight = compute_class_weight(\n",
    "    class_weight='balanced',\n",
    "    classes=np.unique(y_train),\n",
    "    y=y_train\n",
    ")\n",
    "class_weight = dict(zip(np.unique(y_train), class_weight))"
   ]
  },
  {
   "cell_type": "code",
   "execution_count": null,
   "metadata": {},
   "outputs": [],
   "source": [
    "forest_default = RandomForestClassifier(random_state=0, oob_score=True, n_jobs=-1, class_weight=class_weight)\n",
    "forest_default.fit(X_train, y_train)"
   ]
  },
  {
   "cell_type": "code",
   "execution_count": null,
   "metadata": {},
   "outputs": [],
   "source": [
    "src.evaluate_model(forest_default, X_test, y_test, classes=config.CLASSES_COMBINED_RAP_HIPHOP)"
   ]
  },
  {
   "cell_type": "markdown",
   "metadata": {},
   "source": [
    "Scores seem to be slightly better.  \n",
    "Let's try to optimize the parameters of the forest now."
   ]
  },
  {
   "cell_type": "code",
   "execution_count": null,
   "metadata": {},
   "outputs": [],
   "source": [
    "n_trees = np.arange(100, 1000, 100)\n",
    "\n",
    "train_scores = []\n",
    "test_scores = []\n",
    "\n",
    "for n in n_trees:\n",
    "    print(f'-> {n} trees.')\n",
    "\n",
    "    forest = RandomForestClassifier(random_state=0, oob_score=True, n_estimators=n, n_jobs=2)\n",
    "    forest.fit(X_train, y_train)\n",
    "\n",
    "    y_pred_train = forest.predict(X_train)\n",
    "    y_pred_test = forest.predict(X_test)\n",
    "\n",
    "    train_score = accuracy_score(y_train, y_pred_train)\n",
    "    test_score = accuracy_score(y_test, y_pred_test)\n",
    "\n",
    "    train_scores.append(train_score)\n",
    "    test_scores.append(test_score)"
   ]
  },
  {
   "cell_type": "code",
   "execution_count": null,
   "metadata": {},
   "outputs": [],
   "source": [
    "fig, (ax1, ax2) = plt.subplots(nrows=1, ncols=2, figsize=(12, 6))\n",
    "plt.subplots_adjust(wspace=0.4)\n",
    "\n",
    "ax1.plot(n_trees, train_scores, label='Train', color='C0')\n",
    "ax1.set_xlabel('n_estimators')\n",
    "ax1.set_ylabel('score')\n",
    "\n",
    "ax2.plot(n_trees, test_scores, label='Test', color='C1')\n",
    "ax2.set_xlabel('n_estimators')\n",
    "ax2.set_ylabel('score')\n",
    "\n",
    "fig.suptitle('Score evolution over number of trees')\n",
    "\n",
    "ax1.legend()\n",
    "ax2.legend()\n",
    "\n",
    "plt.show()"
   ]
  },
  {
   "cell_type": "markdown",
   "metadata": {},
   "source": [
    "Using more trees doesn't seem to improve the score so we'll keep their number at $100$.  \n",
    "Now we're going to optimize simultaneously `max_depth` and `max_features` parameters."
   ]
  },
  {
   "cell_type": "code",
   "execution_count": null,
   "metadata": {},
   "outputs": [],
   "source": [
    "params = {\n",
    "    'max_depth' : np.arange(1, 45, 5),\n",
    "    'max_features' : np.arange(1, X_train.shape[1], 5)\n",
    "}\n",
    "\n",
    "forest = RandomForestClassifier(random_state=0, oob_score=True)\n",
    "score = make_scorer(accuracy_score)\n",
    "\n",
    "gs = GridSearchCV(forest, param_grid=params, scoring=score, cv=5, n_jobs=-1)\n",
    "gs.fit(X_train, y_train)"
   ]
  },
  {
   "cell_type": "code",
   "execution_count": null,
   "metadata": {},
   "outputs": [],
   "source": [
    "scores = gs.cv_results_['mean_test_score']\n",
    "scores = scores.reshape(len(params['max_depth']), len(params['max_features']))\n",
    "\n",
    "fig, ax = plt.subplots(figsize=(5,6))\n",
    "\n",
    "heatmap = sns.heatmap(scores, linewidths=0, cmap='Reds', cbar=True, cbar_kws={'label': 'accuracy_score'})\n",
    "\n",
    "ax.set_xticks(np.arange(len(params['max_features'])))\n",
    "ax.set_yticks(np.arange(len(params['max_depth'])))\n",
    "\n",
    "ax.set_xticklabels(params['max_features'])\n",
    "ax.set_yticklabels(params['max_depth'])\n",
    "\n",
    "ax.set_xlabel('max_features')\n",
    "ax.set_ylabel('max_depth')\n",
    "\n",
    "# colorbar = ax.figure.colorbar(heatmap)\n",
    "# colorbar.set_label('accuracy_score')\n",
    "\n",
    "plt.title('Accuracy score for different values of max_depth and max_features', pad=20)\n",
    "plt.show()"
   ]
  },
  {
   "cell_type": "code",
   "execution_count": null,
   "metadata": {},
   "outputs": [],
   "source": [
    "best_max_depth = gs.best_params_['max_depth']\n",
    "best_max_features = gs.best_params_['max_features']\n",
    "\n",
    "print(f'Best value for \\'max_depth\\' is : {best_max_depth}.')\n",
    "print(f'Best value for \\'max_features\\' is : {best_max_features}.')"
   ]
  },
  {
   "cell_type": "code",
   "execution_count": null,
   "metadata": {},
   "outputs": [],
   "source": [
    "best_forest = RandomForestClassifier(random_state=0, oob_score=True, max_depth=11, max_features=11)\n",
    "best_forest.fit(X_train, y_train)"
   ]
  },
  {
   "cell_type": "code",
   "execution_count": null,
   "metadata": {},
   "outputs": [],
   "source": [
    "y_pred_train = best_forest.predict(X_train)\n",
    "y_pred_test = best_forest.predict(X_test)\n",
    "\n",
    "forest_score_train = accuracy_score(y_train, y_pred_train)\n",
    "forest_score_test = accuracy_score(y_test, y_pred_test)\n",
    "\n",
    "print(f'Score on train : {forest_score_train}.')\n",
    "print(f'Score on test : {forest_score_test}.')"
   ]
  },
  {
   "cell_type": "code",
   "execution_count": null,
   "metadata": {},
   "outputs": [],
   "source": [
    "print(classification_report(y_test, y_pred_test))"
   ]
  },
  {
   "cell_type": "markdown",
   "metadata": {},
   "source": [
    "Score is better by 2%, not very satisfying..."
   ]
  }
 ],
 "metadata": {
  "kernelspec": {
   "display_name": "venv",
   "language": "python",
   "name": "python3"
  },
  "language_info": {
   "codemirror_mode": {
    "name": "ipython",
    "version": 3
   },
   "file_extension": ".py",
   "mimetype": "text/x-python",
   "name": "python",
   "nbconvert_exporter": "python",
   "pygments_lexer": "ipython3",
   "version": "3.9.6"
  }
 },
 "nbformat": 4,
 "nbformat_minor": 2
}
