{
 "cells": [
  {
   "cell_type": "markdown",
   "metadata": {},
   "source": [
    "<hr style=\"margin-bottom: 50px;\">\n",
    "<center>\n",
    "    <h1 style=\"margin-top: 0; margin-bottom: 0;\">\n",
    "        <b><u>Logistic Regression</u></b>\n",
    "    </h1>\n",
    "</center>\n",
    "<hr style=\"margin-top: 50px;\">\n"
   ]
  },
  {
   "cell_type": "code",
   "execution_count": 1,
   "metadata": {},
   "outputs": [],
   "source": [
    "import config, src\n",
    "import numpy as np\n",
    "from sklearn.svm import SVC\n",
    "from sklearn.linear_model import LogisticRegression as LR\n",
    "from sklearn.utils.class_weight import compute_class_weight"
   ]
  },
  {
   "cell_type": "code",
   "execution_count": null,
   "metadata": {},
   "outputs": [],
   "source": [
    "data = src.load_data(config.PROCESSED_DATA_COMBINED_RAP_HIPHOP_FILE)\n",
    "\n",
    "X_train, X_test, y_train, y_test = src.split_data(data, target_column='music_genre')\n",
    "\n",
    "class_weight = compute_class_weight(\n",
    "    class_weight='balanced',\n",
    "    classes=np.unique(y_train),\n",
    "    y=y_train\n",
    ")\n",
    "class_weight = dict(zip(np.unique(y_train), class_weight))"
   ]
  },
  {
   "cell_type": "code",
   "execution_count": null,
   "metadata": {},
   "outputs": [],
   "source": [
    "lr_classifier = LR(random_state=0, class_weight=class_weight, multi_class=\"multinomial\")\n",
    "lr_classifier.fit(X_train, y_train)"
   ]
  },
  {
   "cell_type": "code",
   "execution_count": null,
   "metadata": {},
   "outputs": [],
   "source": [
    "src.evaluate_model(lr_classifier, X_test, y_test, classes=config.CLASSES_COMBINED_RAP_HIPHOP)"
   ]
  },
  {
   "cell_type": "markdown",
   "metadata": {},
   "source": [
    "Voyons quelles variables sont les plus utiles à la prédiction:"
   ]
  },
  {
   "cell_type": "code",
   "execution_count": null,
   "metadata": {},
   "outputs": [],
   "source": [
    "accuracy_variable = {}\n",
    "for variables in X_train.columns:\n",
    "    clf = LR(multi_class=\"multinomial\",n_jobs=-1).fit(X_train[variables].to_numpy().reshape(-1, 1), y_train)\n",
    "    y_pred = clf.predict(X_test[variables].to_numpy().reshape(-1, 1))\n",
    "    accuracy_variable[variables] = accuracy_score(y_test, y_pred)\n",
    "\n",
    "print(accuracy_variable)"
   ]
  },
  {
   "cell_type": "markdown",
   "metadata": {},
   "source": [
    "Utilisons un algorithme de réduction de dimension pour augmenter le scoring:"
   ]
  },
  {
   "cell_type": "code",
   "execution_count": null,
   "metadata": {},
   "outputs": [],
   "source": [
    "from sklearn.feature_selection import RFE\n",
    "\n",
    "# Initialize a model and RFE\n",
    "model = LR(multi_class=\"multinomial\",n_jobs=-1).fit(X, y)\n",
    "rfe = RFE(estimator=model, n_features_to_select=10)\n",
    "\n",
    "# Fit RFE to the data\n",
    "X_reduced = rfe.fit_transform(X, y)\n",
    "print(\"Selected Features:\", X.columns[rfe.support_])"
   ]
  },
  {
   "cell_type": "markdown",
   "metadata": {},
   "source": [
    "Nouvelle regression après réduction de dimension, on a un gain de précision de 0.17:"
   ]
  },
  {
   "cell_type": "code",
   "execution_count": null,
   "metadata": {},
   "outputs": [],
   "source": [
    "X_=X.loc[:,rfe.support_]\n",
    "\n",
    "X_train, X_test, y_train, y_test = train_test_split(X_, y, test_size=0.2, stratify=y)\n",
    "clf = LR(multi_class=\"multinomial\",n_jobs=-1).fit(X_train, y_train)\n",
    "\n",
    "y_pred = clf.predict(X_test)\n",
    "\n",
    "accuracy = accuracy_score(y_test, y_pred)\n",
    "accuracy"
   ]
  },
  {
   "cell_type": "markdown",
   "metadata": {},
   "source": [
    "Nous utilisons un gread search pour optimiser les paramètres \"l1\", \"l2\" et \"elastic_net\":"
   ]
  },
  {
   "cell_type": "code",
   "execution_count": null,
   "metadata": {},
   "outputs": [],
   "source": [
    "from sklearn.model_selection import GridSearchCV\n",
    "\n",
    "param_grid = {\n",
    "    'penalty': ['l1','l2', 'none'],\n",
    "    'C': [0.01, 0.1, 1, 10, 100],\n",
    "    'l1_ratio' : [0,0.01,1]\n",
    "}\n",
    "\n",
    "\n",
    "model = LR(multi_class=\"multinomial\",n_jobs=-1)\n",
    "\n",
    "grid_search = GridSearchCV(estimator=model, param_grid=param_grid, cv=5, scoring='accuracy', verbose=1, n_jobs=-1)\n",
    "grid_search.fit(X_train, y_train)\n"
   ]
  },
  {
   "cell_type": "markdown",
   "metadata": {},
   "source": [
    "On a donc une amélioration de 0.01 négligeable:"
   ]
  },
  {
   "cell_type": "code",
   "execution_count": null,
   "metadata": {},
   "outputs": [],
   "source": [
    "print(\"Best Hyperparameters:\", grid_search.best_params_)\n",
    "best_model = grid_search.best_estimator_\n",
    "y_pred = best_model.predict(X_test)\n",
    "print(\"Test Set Accuracy:\", accuracy_score(y_test, y_pred))"
   ]
  },
  {
   "cell_type": "markdown",
   "metadata": {},
   "source": [
    "---"
   ]
  }
 ],
 "metadata": {
  "kernelspec": {
   "display_name": "venv",
   "language": "python",
   "name": "python3"
  },
  "language_info": {
   "codemirror_mode": {
    "name": "ipython",
    "version": 3
   },
   "file_extension": ".py",
   "mimetype": "text/x-python",
   "name": "python",
   "nbconvert_exporter": "python",
   "pygments_lexer": "ipython3",
   "version": "3.9.6"
  }
 },
 "nbformat": 4,
 "nbformat_minor": 2
}
